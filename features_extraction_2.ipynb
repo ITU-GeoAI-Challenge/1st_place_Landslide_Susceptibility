{
 "cells": [
  {
   "cell_type": "code",
   "execution_count": 7,
   "id": "ed192eb9",
   "metadata": {},
   "outputs": [],
   "source": [
    "# Import necessary libraries\n",
    "import geopandas as gpd\n",
    "import pandas as pd\n",
    "import numpy as np\n",
    "import matplotlib.pyplot as plt\n",
    "import glob\n",
    "import rasterio\n",
    "import rasterio.mask\n",
    "from matplotlib import colors, cm\n",
    "from osgeo import gdal\n",
    "import os\n",
    "from rasterio.plot import show\n",
    "from rasterio.plot import show_hist\n",
    "from numpy import ma\n",
    "# import richdem as rd\n",
    "from pyspatialml import Raster\n",
    "from tqdm import tqdm\n",
    "import rioxarray as rxr\n",
    "import xarray as xr"
   ]
  },
  {
   "cell_type": "code",
   "execution_count": 8,
   "id": "f3a6619a",
   "metadata": {},
   "outputs": [
    {
     "data": {
      "text/plain": [
       "'C:\\\\Users\\\\DELL\\\\Downloads\\\\geoailandslide'"
      ]
     },
     "execution_count": 8,
     "metadata": {},
     "output_type": "execute_result"
    },
    {
     "data": {
      "text/plain": [
       "'C:\\\\Users\\\\DELL\\\\Downloads\\\\geoailandslide'"
      ]
     },
     "execution_count": 8,
     "metadata": {},
     "output_type": "execute_result"
    }
   ],
   "source": [
    "pwd"
   ]
  },
  {
   "cell_type": "code",
   "execution_count": 9,
   "id": "ba04b630",
   "metadata": {},
   "outputs": [],
   "source": [
    "dem = gdal.Open(\".\\datasets\\dtm.tif\")"
   ]
  },
  {
   "cell_type": "markdown",
   "id": "9189d764",
   "metadata": {},
   "source": [
    "### Extracting Features"
   ]
  },
  {
   "cell_type": "code",
   "execution_count": 10,
   "id": "ffee554e",
   "metadata": {},
   "outputs": [],
   "source": [
    "TRI = gdal.DEMProcessing(\"TRI.tif\", dem, 'TRI', computeEdges=True)"
   ]
  },
  {
   "cell_type": "code",
   "execution_count": 11,
   "id": "d219e314",
   "metadata": {},
   "outputs": [],
   "source": [
    "TRI = None"
   ]
  },
  {
   "cell_type": "code",
   "execution_count": 12,
   "id": "144e291f",
   "metadata": {},
   "outputs": [],
   "source": [
    "# src = rasterio.open(\"TRI.tif\")\n",
    "# fig, ax = plt.subplots(figsize=(6, 6))\n",
    "# ax.set_title(\"Topographic Ruggedness Index\", fontsize= 20)\n",
    "# cmap = plt.get_cmap('ocean_r')\n",
    "# data = src.read()\n",
    "\n",
    "# data_ma = np.ma.masked_where(data == -9999 ,\n",
    "#                         data,\n",
    "#                          copy=True)\n",
    "# show(data_ma, transform=src.transform, ax=ax, cmap=cmap, vmin=0, vmax=2)\n",
    "# fig.colorbar(cm.ScalarMappable(norm=colors.Normalize(vmin=0, vmax=2), cmap=cmap), ax=ax)\n",
    "# plt.savefig(r'TRI.png', bbox_inches='tight')"
   ]
  },
  {
   "cell_type": "code",
   "execution_count": 13,
   "id": "1599dc8a",
   "metadata": {},
   "outputs": [],
   "source": [
    "# pop.coords"
   ]
  },
  {
   "cell_type": "code",
   "execution_count": 14,
   "id": "9dab2b38",
   "metadata": {},
   "outputs": [],
   "source": [
    "roughness = gdal.DEMProcessing(\"roughness.tif\", dem, 'roughness', computeEdges=True)\n",
    "roughness = None"
   ]
  },
  {
   "cell_type": "code",
   "execution_count": 15,
   "id": "5f34c331",
   "metadata": {},
   "outputs": [],
   "source": [
    "# src = rasterio.open(\"roughness.tif\")\n",
    "# fig, ax = plt.subplots(figsize=(20, 10))\n",
    "# ax.set_title(\"Roughness\", fontsize= 20)\n",
    "# cmap = plt.get_cmap('ocean_r')\n",
    "# data = src.read()\n",
    "\n",
    "# data_ma = np.ma.masked_where(data == -9999,\n",
    "#                           data,\n",
    "#                           copy=True)\n",
    "# show(data_ma, transform=src.transform, ax=ax, cmap=cmap, vmin=0, vmax=5)\n",
    "# fig.colorbar(cm.ScalarMappable(norm=colors.Normalize(vmin=0, vmax=5), cmap=cmap), ax=ax)\n",
    "# plt.savefig(r'roughness.png', bbox_inches='tight')"
   ]
  },
  {
   "cell_type": "code",
   "execution_count": null,
   "id": "bb556ebb",
   "metadata": {},
   "outputs": [],
   "source": []
  }
 ],
 "metadata": {
  "kernelspec": {
   "display_name": "Python 3 (ipykernel)",
   "language": "python",
   "name": "python3"
  },
  "language_info": {
   "codemirror_mode": {
    "name": "ipython",
    "version": 3
   },
   "file_extension": ".py",
   "mimetype": "text/x-python",
   "name": "python",
   "nbconvert_exporter": "python",
   "pygments_lexer": "ipython3",
   "version": "3.9.13"
  }
 },
 "nbformat": 4,
 "nbformat_minor": 5
}
