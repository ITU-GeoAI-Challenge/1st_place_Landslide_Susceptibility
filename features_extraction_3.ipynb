{
 "cells": [
  {
   "cell_type": "markdown",
   "id": "6b8ba041",
   "metadata": {},
   "source": [
    "### Importing packages"
   ]
  },
  {
   "cell_type": "code",
   "execution_count": 1,
   "id": "ed192eb9",
   "metadata": {},
   "outputs": [
    {
     "name": "stderr",
     "output_type": "stream",
     "text": [
      "C:\\Users\\DELL\\anaconda3\\lib\\site-packages\\geopandas\\_compat.py:106: UserWarning: The Shapely GEOS version (3.8.0-CAPI-1.13.1 ) is incompatible with the GEOS version PyGEOS was compiled with (3.10.4-CAPI-1.16.2). Conversions between both will be slow.\n",
      "  warnings.warn(\n"
     ]
    }
   ],
   "source": [
    "# Import necessary libraries\n",
    "import geopandas as gpd\n",
    "import pandas as pd\n",
    "import numpy as np\n",
    "import matplotlib.pyplot as plt\n",
    "import glob\n",
    "import rasterio\n",
    "import rasterio.mask\n",
    "from matplotlib import colors, cm\n",
    "from osgeo import gdal\n",
    "import os\n",
    "from rasterio.plot import show\n",
    "from rasterio.plot import show_hist\n",
    "from numpy import ma\n",
    "# import richdem as rd\n",
    "from pyspatialml import Raster\n",
    "from tqdm import tqdm\n",
    "import rioxarray as rxr\n",
    "import xarray as xr"
   ]
  },
  {
   "cell_type": "code",
   "execution_count": 2,
   "id": "f3a6619a",
   "metadata": {},
   "outputs": [
    {
     "data": {
      "text/plain": [
       "'C:\\\\Users\\\\DELL\\\\Downloads\\\\geoailandslide'"
      ]
     },
     "execution_count": 2,
     "metadata": {},
     "output_type": "execute_result"
    }
   ],
   "source": [
    "pwd"
   ]
  },
  {
   "cell_type": "code",
   "execution_count": 3,
   "id": "ba04b630",
   "metadata": {},
   "outputs": [],
   "source": [
    "dem = gdal.Open(\".\\datasets\\dtm.tif\")"
   ]
  },
  {
   "cell_type": "markdown",
   "id": "572e0b60",
   "metadata": {},
   "source": [
    "### Extracting Features"
   ]
  },
  {
   "cell_type": "code",
   "execution_count": 4,
   "id": "6aea7852",
   "metadata": {},
   "outputs": [],
   "source": [
    "aspect = gdal.DEMProcessing(\"aspect_degrees.tif\", dem, 'aspect', computeEdges=True)\n",
    "aspect = None"
   ]
  },
  {
   "cell_type": "code",
   "execution_count": 5,
   "id": "69942704",
   "metadata": {},
   "outputs": [],
   "source": [
    "src = rasterio.open(\"aspect_degrees.tif\")"
   ]
  },
  {
   "cell_type": "code",
   "execution_count": 6,
   "id": "41ae8529",
   "metadata": {},
   "outputs": [],
   "source": [
    "\n",
    "# fig, ax = plt.subplots(figsize=(20, 10))\n",
    "# ax.set_title(\"Aspect, degrees\", fontsize= 20)\n",
    "# cmap = plt.get_cmap('YlGnBu')\n",
    "# data = src.read()\n",
    "\n",
    "# data_ma = np.ma.masked_where(data == -9999 ,\n",
    "#                         data,\n",
    "#                          copy=True)\n",
    "# show(data_ma, transform=src.transform, ax=ax, cmap=cmap, vmin=np.nanmin(data_ma), vmax=np.nanmax(data_ma))\n",
    "# fig.colorbar(cm.ScalarMappable(norm=colors.Normalize(vmin=np.nanmin(data_ma), vmax=np.nanmax(data_ma)), cmap=cmap), ax=ax)\n",
    "# plt.savefig(r'aspect.png', bbox_inches='tight')"
   ]
  },
  {
   "cell_type": "code",
   "execution_count": 7,
   "id": "815b323d",
   "metadata": {},
   "outputs": [
    {
     "data": {
      "text/plain": [
       "0.0"
      ]
     },
     "execution_count": 7,
     "metadata": {},
     "output_type": "execute_result"
    }
   ],
   "source": [
    "aspect=src.read(1)\n",
    "aspect_masked = np.ma.masked_array(aspect, mask=(aspect < 0))\n",
    "np.min(aspect_masked)"
   ]
  },
  {
   "cell_type": "code",
   "execution_count": 8,
   "id": "661bc82c",
   "metadata": {},
   "outputs": [],
   "source": [
    "aspect_rad = np.radians(aspect_masked)"
   ]
  },
  {
   "cell_type": "code",
   "execution_count": 9,
   "id": "0904dcd2",
   "metadata": {},
   "outputs": [],
   "source": [
    "aspect_northerness = np.cos(aspect_rad)"
   ]
  },
  {
   "cell_type": "code",
   "execution_count": 10,
   "id": "55606847",
   "metadata": {},
   "outputs": [],
   "source": [
    "# fig, ax = plt.subplots(figsize=(20, 10))\n",
    "# ax.set_title(\"Northerness\", fontsize= 20)\n",
    "# cmap = plt.get_cmap('YlGnBu')\n",
    "# data = aspect_northerness\n",
    "\n",
    "# data_ma = np.ma.masked_where(data == -9999 ,\n",
    "#                         data,\n",
    "#                          copy=True)\n",
    "# show(data_ma, transform=src.transform, ax=ax, cmap=cmap, vmin=np.nanmin(data_ma), vmax=np.nanmax(data_ma))\n",
    "# fig.colorbar(cm.ScalarMappable(norm=colors.Normalize(vmin=np.nanmin(data_ma), vmax=np.nanmax(data_ma)), cmap=cmap), ax=ax)\n",
    "# plt.savefig(r'northerness.png', bbox_inches='tight')"
   ]
  },
  {
   "cell_type": "code",
   "execution_count": 11,
   "id": "7025ca47",
   "metadata": {},
   "outputs": [],
   "source": [
    "aspect = gdal.Open(\"aspect_degrees.tif\")\n",
    "drv = gdal.GetDriverByName('GTiff')    \n",
    "outRaster = drv.CreateCopy('northerness.tif', aspect, 0 ) \n",
    "northerness = outRaster.GetRasterBand(1)                             \n",
    "northerness.WriteArray(aspect_northerness)                                         \n",
    "outRaster = None  "
   ]
  },
  {
   "cell_type": "code",
   "execution_count": 12,
   "id": "28cc2922",
   "metadata": {},
   "outputs": [],
   "source": [
    "aspect_eastness = np.sin(aspect_rad)"
   ]
  },
  {
   "cell_type": "code",
   "execution_count": 13,
   "id": "b9c272b4",
   "metadata": {},
   "outputs": [],
   "source": [
    "# fig, ax = plt.subplots(figsize=(20, 10))\n",
    "# ax.set_title(\"Easterness\", fontsize= 20)\n",
    "# cmap = plt.get_cmap('YlGnBu')\n",
    "# data = aspect_eastness\n",
    "\n",
    "# data_ma = np.ma.masked_where(data == -9999 ,\n",
    "#                         data,\n",
    "#                          copy=True)\n",
    "# show(data_ma, ax=ax, cmap=cmap, vmin=np.nanmin(data_ma), vmax=np.nanmax(data_ma))\n",
    "# fig.colorbar(cm.ScalarMappable(norm=colors.Normalize(vmin=np.nanmin(data_ma), vmax=np.nanmax(data_ma)), cmap=cmap), ax=ax)\n",
    "# plt.savefig(r'easterness.png', bbox_inches='tight')\n"
   ]
  },
  {
   "cell_type": "code",
   "execution_count": 14,
   "id": "4b23fe5b",
   "metadata": {},
   "outputs": [],
   "source": [
    "aspect = gdal.Open(\"aspect_degrees.tif\")\n",
    "drv = gdal.GetDriverByName('GTiff')  \n",
    "outRaster = drv.CreateCopy('eastness.tif', aspect, 0 )  \n",
    "northerness = outRaster.GetRasterBand(1)                             \n",
    "northerness.WriteArray(aspect_eastness)                                         \n",
    "outRaster = None  \n",
    "aspect= None"
   ]
  },
  {
   "cell_type": "code",
   "execution_count": null,
   "id": "11f1b245",
   "metadata": {},
   "outputs": [],
   "source": []
  },
  {
   "cell_type": "code",
   "execution_count": null,
   "id": "0f3b7a81",
   "metadata": {},
   "outputs": [],
   "source": []
  }
 ],
 "metadata": {
  "kernelspec": {
   "display_name": "Python 3 (ipykernel)",
   "language": "python",
   "name": "python3"
  },
  "language_info": {
   "codemirror_mode": {
    "name": "ipython",
    "version": 3
   },
   "file_extension": ".py",
   "mimetype": "text/x-python",
   "name": "python",
   "nbconvert_exporter": "python",
   "pygments_lexer": "ipython3",
   "version": "3.9.13"
  }
 },
 "nbformat": 4,
 "nbformat_minor": 5
}
